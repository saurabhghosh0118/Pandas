{
 "cells": [
  {
   "cell_type": "code",
   "execution_count": 3,
   "metadata": {},
   "outputs": [],
   "source": [
    "import elasticsearch as es\n",
    "import pandas as pd"
   ]
  },
  {
   "cell_type": "code",
   "execution_count": 11,
   "metadata": {},
   "outputs": [],
   "source": [
    "es1 = es.Elasticsearch(\"localhost\")"
   ]
  },
  {
   "cell_type": "code",
   "execution_count": 12,
   "metadata": {
    "collapsed": true
   },
   "outputs": [
    {
     "data": {
      "text/plain": [
       "{'took': 1,\n",
       " 'timed_out': False,\n",
       " '_shards': {'total': 1, 'successful': 1, 'skipped': 0, 'failed': 0},\n",
       " 'hits': {'total': {'value': 3, 'relation': 'eq'},\n",
       "  'max_score': 1.0,\n",
       "  'hits': [{'_index': 'person',\n",
       "    '_type': '_doc',\n",
       "    '_id': '1',\n",
       "    '_score': 1.0,\n",
       "    '_source': {'first_name': 'Saurabh', 'last_name': 'Ghosh', 'age': 27}},\n",
       "   {'_index': 'person',\n",
       "    '_type': '_doc',\n",
       "    '_id': '2',\n",
       "    '_score': 1.0,\n",
       "    '_source': {'first_name': 'Saurabh-Bunty',\n",
       "     'last_name': 'Ghosh',\n",
       "     'age': 27}},\n",
       "   {'_index': 'person',\n",
       "    '_type': '_doc',\n",
       "    '_id': '3',\n",
       "    '_score': 1.0,\n",
       "    '_source': {'first_name': 'Anamika',\n",
       "     'last_name': 'Sammadar',\n",
       "     'age': 25}}]}}"
      ]
     },
     "execution_count": 12,
     "metadata": {},
     "output_type": "execute_result"
    }
   ],
   "source": [
    "documents = es1.search(index=\"person\",body={})\n",
    "documents"
   ]
  },
  {
   "cell_type": "code",
   "execution_count": 14,
   "metadata": {
    "collapsed": true
   },
   "outputs": [
    {
     "data": {
      "text/plain": [
       "[{'_index': 'person',\n",
       "  '_type': '_doc',\n",
       "  '_id': '1',\n",
       "  '_score': 1.0,\n",
       "  '_source': {'first_name': 'Saurabh', 'last_name': 'Ghosh', 'age': 27}},\n",
       " {'_index': 'person',\n",
       "  '_type': '_doc',\n",
       "  '_id': '2',\n",
       "  '_score': 1.0,\n",
       "  '_source': {'first_name': 'Saurabh-Bunty', 'last_name': 'Ghosh', 'age': 27}},\n",
       " {'_index': 'person',\n",
       "  '_type': '_doc',\n",
       "  '_id': '3',\n",
       "  '_score': 1.0,\n",
       "  '_source': {'first_name': 'Anamika', 'last_name': 'Sammadar', 'age': 25}}]"
      ]
     },
     "execution_count": 14,
     "metadata": {},
     "output_type": "execute_result"
    }
   ],
   "source": [
    "response1 = documents[\"hits\"][\"hits\"]\n",
    "response1"
   ]
  },
  {
   "cell_type": "code",
   "execution_count": 42,
   "metadata": {},
   "outputs": [
    {
     "name": "stdout",
     "output_type": "stream",
     "text": [
      "{'first_name': 'Saurabh', 'last_name': 'Ghosh', 'age': 27}\n",
      "{'first_name': 'Saurabh-Bunty', 'last_name': 'Ghosh', 'age': 27}\n",
      "{'first_name': 'Anamika', 'last_name': 'Sammadar', 'age': 25}\n"
     ]
    }
   ],
   "source": [
    "for k1 in response1:\n",
    "    print(k1[\"_source\"])"
   ]
  },
  {
   "cell_type": "code",
   "execution_count": 43,
   "metadata": {
    "collapsed": true
   },
   "outputs": [
    {
     "name": "stdout",
     "output_type": "stream",
     "text": [
      "first_name --> Saurabh\n",
      "last_name --> Ghosh\n",
      "age --> 27\n",
      "first_name --> Saurabh-Bunty\n",
      "last_name --> Ghosh\n",
      "age --> 27\n",
      "first_name --> Anamika\n",
      "last_name --> Sammadar\n",
      "age --> 25\n"
     ]
    }
   ],
   "source": [
    "\n",
    "for num, doc in enumerate(response1):\n",
    "    for k in doc[\"_source\"]:\n",
    "        print(k,\"-->\",doc[\"_source\"][k])\n",
    "        \n",
    "    \n",
    "\n",
    "\n"
   ]
  },
  {
   "cell_type": "code",
   "execution_count": 26,
   "metadata": {},
   "outputs": [
    {
     "data": {
      "text/plain": [
       "{'first_name': 'Anamika', 'last_name': 'Sammadar', 'age': 25}"
      ]
     },
     "execution_count": 26,
     "metadata": {},
     "output_type": "execute_result"
    }
   ],
   "source": [
    "source_data = doc[\"_source\"]\n",
    "source_data"
   ]
  },
  {
   "cell_type": "code",
   "execution_count": 47,
   "metadata": {},
   "outputs": [
    {
     "name": "stdout",
     "output_type": "stream",
     "text": [
      "Hello Sam,Bob\n"
     ]
    }
   ],
   "source": [
    "print(\"Hello {1},{0}\".format(\"Bob\",\"Sam\"))"
   ]
  },
  {
   "cell_type": "code",
   "execution_count": 48,
   "metadata": {},
   "outputs": [
    {
     "data": {
      "text/plain": [
       "[1, 2, 3, 4, 5, 6, 7, 8, 9, 10]"
      ]
     },
     "execution_count": 48,
     "metadata": {},
     "output_type": "execute_result"
    }
   ],
   "source": [
    "l1 = list(range(1,11))\n",
    "l1"
   ]
  },
  {
   "cell_type": "code",
   "execution_count": 54,
   "metadata": {},
   "outputs": [
    {
     "name": "stdout",
     "output_type": "stream",
     "text": [
      "[]\n"
     ]
    }
   ],
   "source": [
    "l2 = [x for x in l1 if x/2==0]\n",
    "print(l2)"
   ]
  },
  {
   "cell_type": "code",
   "execution_count": null,
   "metadata": {},
   "outputs": [],
   "source": []
  }
 ],
 "metadata": {
  "kernelspec": {
   "display_name": "Python 3",
   "language": "python",
   "name": "python3"
  },
  "language_info": {
   "codemirror_mode": {
    "name": "ipython",
    "version": 3
   },
   "file_extension": ".py",
   "mimetype": "text/x-python",
   "name": "python",
   "nbconvert_exporter": "python",
   "pygments_lexer": "ipython3",
   "version": "3.8.3"
  }
 },
 "nbformat": 4,
 "nbformat_minor": 4
}
